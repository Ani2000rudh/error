{
 "cells": [
  {
   "cell_type": "code",
   "execution_count": null,
   "id": "e35ecfa4-7504-4621-a9b5-20d26bac444a",
   "metadata": {},
   "outputs": [],
   "source": [
    "#Q1 \n",
    "\n",
    "'''syntax errors: are those where there is any mistake in writing code such as (:,,\"\",'' etc ) forms a syntax of the language such mistakes are not pardonable.\n",
    "Exception: are those where suspecios part of code with probable mathematheical,logic error which cab be over flown using some function in poython'''\n",
    "\n"
   ]
  },
  {
   "cell_type": "code",
   "execution_count": 5,
   "id": "37c98269-3c9f-4382-92b0-f54b025bd41f",
   "metadata": {},
   "outputs": [
    {
     "ename": "ZeroDivisionError",
     "evalue": "division by zero",
     "output_type": "error",
     "traceback": [
      "\u001b[0;31m---------------------------------------------------------------------------\u001b[0m",
      "\u001b[0;31mZeroDivisionError\u001b[0m                         Traceback (most recent call last)",
      "Cell \u001b[0;32mIn[5], line 5\u001b[0m\n\u001b[1;32m      1\u001b[0m \u001b[38;5;66;03m#q2\u001b[39;00m\n\u001b[1;32m      2\u001b[0m \n\u001b[1;32m      3\u001b[0m \u001b[38;5;66;03m#example\u001b[39;00m\n\u001b[0;32m----> 5\u001b[0m a\u001b[38;5;241m=\u001b[39m\u001b[38;5;241;43m1\u001b[39;49m\u001b[38;5;241;43m/\u001b[39;49m\u001b[38;5;241;43m0\u001b[39;49m \u001b[38;5;66;03m#1/0 is math error not syntax error in order to print next line this must execute \u001b[39;00m\n\u001b[1;32m      6\u001b[0m \u001b[38;5;28mprint\u001b[39m(\u001b[38;5;124m\"\u001b[39m\u001b[38;5;124mhi\u001b[39m\u001b[38;5;124m\"\u001b[39m)\n",
      "\u001b[0;31mZeroDivisionError\u001b[0m: division by zero"
     ]
    }
   ],
   "source": [
    "#Q2\n",
    " when exception is not handled when error occors excution of programme stops there tho\n",
    "#example\n",
    "\n",
    "a=1/0 #1/0 is math error not syntax error in order to print next line this must execute \n",
    "print(\"hi\")"
   ]
  },
  {
   "cell_type": "code",
   "execution_count": 7,
   "id": "f5303591-d2f9-463b-85f4-b14e78ea7b5e",
   "metadata": {},
   "outputs": [
    {
     "name": "stdout",
     "output_type": "stream",
     "text": [
      "hi\n"
     ]
    }
   ],
   "source": [
    "try:\n",
    "    a=1/0 #1/0 is math error not syntax error in order to print next line this must execute \n",
    "except Exception as q:\n",
    "    print(\"hi\")# print statement executed  though the error up"
   ]
  },
  {
   "cell_type": "code",
   "execution_count": 10,
   "id": "e0b568f6-7354-446d-b847-c31b6e31b084",
   "metadata": {},
   "outputs": [
    {
     "name": "stdout",
     "output_type": "stream",
     "text": [
      "this the soln of question 3\n",
      " division by zero\n"
     ]
    }
   ],
   "source": [
    "#Q3\n",
    "\n",
    "#in python to catach and handle error : try,except are used.\n",
    "\n",
    "#example.\n",
    "try:\n",
    "    a=0/0 \n",
    "except Exception as a:\n",
    "    print(\"this the soln of question 3\\n\",   a)\n"
   ]
  },
  {
   "cell_type": "code",
   "execution_count": 1,
   "id": "77a982a6-cee8-47bd-9c43-00d81132ef94",
   "metadata": {},
   "outputs": [
    {
     "name": "stdout",
     "output_type": "stream",
     "text": [
      "this block is exrcuted only when try block is executed withour exeception\n",
      "this block is exrcuted only when try block is executed withour exeception\n",
      "it will always execute\n"
     ]
    },
    {
     "data": {
      "text/plain": [
       "'a=int(input(\"enter a no\"))\\nif a<0 or a>10:\\n      raise Error(\"it is not allowd\")'"
      ]
     },
     "execution_count": 1,
     "metadata": {},
     "output_type": "execute_result"
    }
   ],
   "source": [
    "#Q4\n",
    "\n",
    "\n",
    "#try -else\n",
    "try:# inside try put susspecious code\n",
    "    2/8\n",
    "except Exception as e:\n",
    "    print(\" hi error print works even with error\",e)\n",
    "else:\n",
    "    print(\"this block is exrcuted only when try block is executed withour exeception\") # put mandantory code \n",
    "    \n",
    "#try finally\n",
    "try:\n",
    "    2/6\n",
    "except Exception as e:\n",
    "    print(\" hi error print works even with error\",e)\n",
    "else:\n",
    "    print(\"this block is exrcuted only when try block is executed withour exeception\")\n",
    "finally:\n",
    "    print(\"it will always execute\")   \n",
    "    \n",
    "    \n",
    "#raise\n",
    "\n",
    "a=int(input(\"enter a no\"))\n",
    "if a<0 or a>10:\n",
    "      raise Error(\"it is not allowd\")\n",
    "    \n",
    "    "
   ]
  },
  {
   "cell_type": "code",
   "execution_count": 4,
   "id": "f9f8c62b-1875-44f8-8f21-0eaa9bcaa53e",
   "metadata": {},
   "outputs": [
    {
     "name": "stdin",
     "output_type": "stream",
     "text": [
      "enter age 34\n"
     ]
    },
    {
     "name": "stdout",
     "output_type": "stream",
     "text": [
      "valid!\n"
     ]
    }
   ],
   "source": [
    "#Q5\n",
    "'''A custom exception coder defined  exception that is defined  by creating a new class that inherits \n",
    "from the built-in\" Exception \"class. Custom exceptions are used to represent specific types of errors that can occur in  code '''\n",
    "\n",
    "class validateage(Exception):\n",
    "    def __init__(self,msg):\n",
    "        \n",
    "         self.msg=msg\n",
    "def validate_age(age):\n",
    "    if age<0:\n",
    "        raise validateage(\"age should not be lesser then 0\")       \n",
    "    elif age>150:\n",
    "        raise validateage(\"too high\")\n",
    "    else:\n",
    "        print(\"valid!\")\n",
    "try:\n",
    "    age=int(input(\"enter age\"))\n",
    "    validate_age(age)\n",
    "except validateage as e:\n",
    "    print(e)\n",
    "    \n"
   ]
  },
  {
   "cell_type": "code",
   "execution_count": 2,
   "id": "ce90f6c6-071c-4061-acd8-d39d426d65ed",
   "metadata": {},
   "outputs": [
    {
     "name": "stdin",
     "output_type": "stream",
     "text": [
      "enter a no 0\n"
     ]
    },
    {
     "name": "stdout",
     "output_type": "stream",
     "text": [
      "this is infinity\n"
     ]
    }
   ],
   "source": [
    "#Q6\n",
    "\n",
    "class validi(Exception):\n",
    "    def __ini__(self,call):\n",
    "        self.call=call\n",
    "def ifor2(i):\n",
    "    if i<0:\n",
    "        raise validi(\"this not possible\")\n",
    "    elif i==0:\n",
    "        raise validi(\"this is infinity\")\n",
    "    else:\n",
    "        print(\"possible\",(2/i))\n",
    "        \n",
    "try:\n",
    "    i=int(input('enter a no'))\n",
    "    ifor2(i)\n",
    "except Exception as a:\n",
    "    print(a)"
   ]
  },
  {
   "cell_type": "code",
   "execution_count": null,
   "id": "787edf42-3200-47fe-bd1c-7ea8042801f7",
   "metadata": {},
   "outputs": [],
   "source": []
  }
 ],
 "metadata": {
  "kernelspec": {
   "display_name": "Python 3 (ipykernel)",
   "language": "python",
   "name": "python3"
  },
  "language_info": {
   "codemirror_mode": {
    "name": "ipython",
    "version": 3
   },
   "file_extension": ".py",
   "mimetype": "text/x-python",
   "name": "python",
   "nbconvert_exporter": "python",
   "pygments_lexer": "ipython3",
   "version": "3.10.8"
  }
 },
 "nbformat": 4,
 "nbformat_minor": 5
}
